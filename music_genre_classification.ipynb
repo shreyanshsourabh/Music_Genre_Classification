{
  "metadata": {
    "kernelspec": {
      "language": "python",
      "display_name": "Python 3",
      "name": "python3"
    },
    "language_info": {
      "name": "python",
      "version": "3.10.10",
      "mimetype": "text/x-python",
      "codemirror_mode": {
        "name": "ipython",
        "version": 3
      },
      "pygments_lexer": "ipython3",
      "nbconvert_exporter": "python",
      "file_extension": ".py"
    },
    "colab": {
      "provenance": [],
      "include_colab_link": true
    }
  },
  "nbformat_minor": 0,
  "nbformat": 4,
  "cells": [
    {
      "cell_type": "markdown",
      "metadata": {
        "id": "view-in-github",
        "colab_type": "text"
      },
      "source": [
        "<a href=\"https://colab.research.google.com/github/shreyanshsourabh/Music_Genre_Classification/blob/master/music_genre_classification.ipynb\" target=\"_parent\"><img src=\"https://colab.research.google.com/assets/colab-badge.svg\" alt=\"Open In Colab\"/></a>"
      ]
    },
    {
      "cell_type": "code",
      "source": [
        "import numpy as np\n",
        "import pandas as pd"
      ],
      "metadata": {
        "_uuid": "8f2839f25d086af736a60e9eeb907d3b93b6e0e5",
        "_cell_guid": "b1076dfc-b9ad-4769-8c92-a6c4dae69d19",
        "execution": {
          "iopub.status.busy": "2023-06-09T02:29:56.220146Z",
          "iopub.execute_input": "2023-06-09T02:29:56.220596Z",
          "iopub.status.idle": "2023-06-09T02:29:56.241056Z",
          "shell.execute_reply.started": "2023-06-09T02:29:56.220565Z",
          "shell.execute_reply": "2023-06-09T02:29:56.239618Z"
        },
        "trusted": true,
        "id": "mdnowYooUJQu"
      },
      "execution_count": null,
      "outputs": []
    },
    {
      "cell_type": "code",
      "source": [
        "df = pd.read_csv(\"/content/train.csv\")"
      ],
      "metadata": {
        "execution": {
          "iopub.status.busy": "2023-06-09T02:29:56.243072Z",
          "iopub.execute_input": "2023-06-09T02:29:56.245268Z",
          "iopub.status.idle": "2023-06-09T02:29:56.354653Z",
          "shell.execute_reply.started": "2023-06-09T02:29:56.245218Z",
          "shell.execute_reply": "2023-06-09T02:29:56.353261Z"
        },
        "trusted": true,
        "id": "z8GE1inYUJQw"
      },
      "execution_count": null,
      "outputs": []
    },
    {
      "cell_type": "code",
      "source": [
        "df.shape"
      ],
      "metadata": {
        "execution": {
          "iopub.status.busy": "2023-06-09T02:29:56.996339Z",
          "iopub.execute_input": "2023-06-09T02:29:56.996892Z",
          "iopub.status.idle": "2023-06-09T02:29:57.007337Z",
          "shell.execute_reply.started": "2023-06-09T02:29:56.996835Z",
          "shell.execute_reply": "2023-06-09T02:29:57.006024Z"
        },
        "trusted": true,
        "colab": {
          "base_uri": "https://localhost:8080/"
        },
        "id": "yOdq6KeUUJQw",
        "outputId": "0985fdd2-769b-488e-d4f7-1d8be9d656ab"
      },
      "execution_count": null,
      "outputs": [
        {
          "output_type": "execute_result",
          "data": {
            "text/plain": [
              "(51054, 2)"
            ]
          },
          "metadata": {},
          "execution_count": 4
        }
      ]
    },
    {
      "cell_type": "code",
      "source": [
        "df.head()"
      ],
      "metadata": {
        "execution": {
          "iopub.status.busy": "2023-06-09T02:29:57.010388Z",
          "iopub.execute_input": "2023-06-09T02:29:57.010849Z",
          "iopub.status.idle": "2023-06-09T02:29:57.049869Z",
          "shell.execute_reply.started": "2023-06-09T02:29:57.010810Z",
          "shell.execute_reply": "2023-06-09T02:29:57.048532Z"
        },
        "trusted": true,
        "colab": {
          "base_uri": "https://localhost:8080/",
          "height": 204
        },
        "id": "3Yx0jjDIUJQx",
        "outputId": "1df37612-6c1b-45bf-9374-9aa7144a1e7a"
      },
      "execution_count": null,
      "outputs": [
        {
          "output_type": "execute_result",
          "data": {
            "text/plain": [
              "                                               lyric  class\n",
              "0             Can't drink without thinkin' about you      1\n",
              "1              Now Lil Pump flyin' private jet (Yuh)      0\n",
              "2  No, matter fact, you ain't help me when I had ...      0\n",
              "3              And you could find me, I ain't hidin'      0\n",
              "4          From the way you talk to the way you move      1"
            ],
            "text/html": [
              "\n",
              "  <div id=\"df-d7ab5485-d8c6-465d-b709-76171fe88a62\">\n",
              "    <div class=\"colab-df-container\">\n",
              "      <div>\n",
              "<style scoped>\n",
              "    .dataframe tbody tr th:only-of-type {\n",
              "        vertical-align: middle;\n",
              "    }\n",
              "\n",
              "    .dataframe tbody tr th {\n",
              "        vertical-align: top;\n",
              "    }\n",
              "\n",
              "    .dataframe thead th {\n",
              "        text-align: right;\n",
              "    }\n",
              "</style>\n",
              "<table border=\"1\" class=\"dataframe\">\n",
              "  <thead>\n",
              "    <tr style=\"text-align: right;\">\n",
              "      <th></th>\n",
              "      <th>lyric</th>\n",
              "      <th>class</th>\n",
              "    </tr>\n",
              "  </thead>\n",
              "  <tbody>\n",
              "    <tr>\n",
              "      <th>0</th>\n",
              "      <td>Can't drink without thinkin' about you</td>\n",
              "      <td>1</td>\n",
              "    </tr>\n",
              "    <tr>\n",
              "      <th>1</th>\n",
              "      <td>Now Lil Pump flyin' private jet (Yuh)</td>\n",
              "      <td>0</td>\n",
              "    </tr>\n",
              "    <tr>\n",
              "      <th>2</th>\n",
              "      <td>No, matter fact, you ain't help me when I had ...</td>\n",
              "      <td>0</td>\n",
              "    </tr>\n",
              "    <tr>\n",
              "      <th>3</th>\n",
              "      <td>And you could find me, I ain't hidin'</td>\n",
              "      <td>0</td>\n",
              "    </tr>\n",
              "    <tr>\n",
              "      <th>4</th>\n",
              "      <td>From the way you talk to the way you move</td>\n",
              "      <td>1</td>\n",
              "    </tr>\n",
              "  </tbody>\n",
              "</table>\n",
              "</div>\n",
              "      <button class=\"colab-df-convert\" onclick=\"convertToInteractive('df-d7ab5485-d8c6-465d-b709-76171fe88a62')\"\n",
              "              title=\"Convert this dataframe to an interactive table.\"\n",
              "              style=\"display:none;\">\n",
              "        \n",
              "  <svg xmlns=\"http://www.w3.org/2000/svg\" height=\"24px\"viewBox=\"0 0 24 24\"\n",
              "       width=\"24px\">\n",
              "    <path d=\"M0 0h24v24H0V0z\" fill=\"none\"/>\n",
              "    <path d=\"M18.56 5.44l.94 2.06.94-2.06 2.06-.94-2.06-.94-.94-2.06-.94 2.06-2.06.94zm-11 1L8.5 8.5l.94-2.06 2.06-.94-2.06-.94L8.5 2.5l-.94 2.06-2.06.94zm10 10l.94 2.06.94-2.06 2.06-.94-2.06-.94-.94-2.06-.94 2.06-2.06.94z\"/><path d=\"M17.41 7.96l-1.37-1.37c-.4-.4-.92-.59-1.43-.59-.52 0-1.04.2-1.43.59L10.3 9.45l-7.72 7.72c-.78.78-.78 2.05 0 2.83L4 21.41c.39.39.9.59 1.41.59.51 0 1.02-.2 1.41-.59l7.78-7.78 2.81-2.81c.8-.78.8-2.07 0-2.86zM5.41 20L4 18.59l7.72-7.72 1.47 1.35L5.41 20z\"/>\n",
              "  </svg>\n",
              "      </button>\n",
              "      \n",
              "  <style>\n",
              "    .colab-df-container {\n",
              "      display:flex;\n",
              "      flex-wrap:wrap;\n",
              "      gap: 12px;\n",
              "    }\n",
              "\n",
              "    .colab-df-convert {\n",
              "      background-color: #E8F0FE;\n",
              "      border: none;\n",
              "      border-radius: 50%;\n",
              "      cursor: pointer;\n",
              "      display: none;\n",
              "      fill: #1967D2;\n",
              "      height: 32px;\n",
              "      padding: 0 0 0 0;\n",
              "      width: 32px;\n",
              "    }\n",
              "\n",
              "    .colab-df-convert:hover {\n",
              "      background-color: #E2EBFA;\n",
              "      box-shadow: 0px 1px 2px rgba(60, 64, 67, 0.3), 0px 1px 3px 1px rgba(60, 64, 67, 0.15);\n",
              "      fill: #174EA6;\n",
              "    }\n",
              "\n",
              "    [theme=dark] .colab-df-convert {\n",
              "      background-color: #3B4455;\n",
              "      fill: #D2E3FC;\n",
              "    }\n",
              "\n",
              "    [theme=dark] .colab-df-convert:hover {\n",
              "      background-color: #434B5C;\n",
              "      box-shadow: 0px 1px 3px 1px rgba(0, 0, 0, 0.15);\n",
              "      filter: drop-shadow(0px 1px 2px rgba(0, 0, 0, 0.3));\n",
              "      fill: #FFFFFF;\n",
              "    }\n",
              "  </style>\n",
              "\n",
              "      <script>\n",
              "        const buttonEl =\n",
              "          document.querySelector('#df-d7ab5485-d8c6-465d-b709-76171fe88a62 button.colab-df-convert');\n",
              "        buttonEl.style.display =\n",
              "          google.colab.kernel.accessAllowed ? 'block' : 'none';\n",
              "\n",
              "        async function convertToInteractive(key) {\n",
              "          const element = document.querySelector('#df-d7ab5485-d8c6-465d-b709-76171fe88a62');\n",
              "          const dataTable =\n",
              "            await google.colab.kernel.invokeFunction('convertToInteractive',\n",
              "                                                     [key], {});\n",
              "          if (!dataTable) return;\n",
              "\n",
              "          const docLinkHtml = 'Like what you see? Visit the ' +\n",
              "            '<a target=\"_blank\" href=https://colab.research.google.com/notebooks/data_table.ipynb>data table notebook</a>'\n",
              "            + ' to learn more about interactive tables.';\n",
              "          element.innerHTML = '';\n",
              "          dataTable['output_type'] = 'display_data';\n",
              "          await google.colab.output.renderOutput(dataTable, element);\n",
              "          const docLink = document.createElement('div');\n",
              "          docLink.innerHTML = docLinkHtml;\n",
              "          element.appendChild(docLink);\n",
              "        }\n",
              "      </script>\n",
              "    </div>\n",
              "  </div>\n",
              "  "
            ]
          },
          "metadata": {},
          "execution_count": 5
        }
      ]
    },
    {
      "cell_type": "code",
      "source": [
        "df.info()"
      ],
      "metadata": {
        "execution": {
          "iopub.status.busy": "2023-06-09T02:29:57.052429Z",
          "iopub.execute_input": "2023-06-09T02:29:57.052844Z",
          "iopub.status.idle": "2023-06-09T02:29:57.112434Z",
          "shell.execute_reply.started": "2023-06-09T02:29:57.052812Z",
          "shell.execute_reply": "2023-06-09T02:29:57.111052Z"
        },
        "trusted": true,
        "colab": {
          "base_uri": "https://localhost:8080/"
        },
        "id": "Sig3zHN1UJQx",
        "outputId": "268ea2ac-82d3-4d6a-eb84-8c3f19805b91"
      },
      "execution_count": null,
      "outputs": [
        {
          "output_type": "stream",
          "name": "stdout",
          "text": [
            "<class 'pandas.core.frame.DataFrame'>\n",
            "RangeIndex: 51054 entries, 0 to 51053\n",
            "Data columns (total 2 columns):\n",
            " #   Column  Non-Null Count  Dtype \n",
            "---  ------  --------------  ----- \n",
            " 0   lyric   51054 non-null  object\n",
            " 1   class   51054 non-null  int64 \n",
            "dtypes: int64(1), object(1)\n",
            "memory usage: 797.8+ KB\n"
          ]
        }
      ]
    },
    {
      "cell_type": "markdown",
      "source": [
        "# EDA"
      ],
      "metadata": {
        "id": "I9fQqqw1UJQx"
      }
    },
    {
      "cell_type": "code",
      "source": [
        "import matplotlib.pyplot as plt\n",
        "import seaborn as sns"
      ],
      "metadata": {
        "execution": {
          "iopub.status.busy": "2023-06-09T02:29:57.114477Z",
          "iopub.execute_input": "2023-06-09T02:29:57.115458Z",
          "iopub.status.idle": "2023-06-09T02:29:58.736870Z",
          "shell.execute_reply.started": "2023-06-09T02:29:57.115415Z",
          "shell.execute_reply": "2023-06-09T02:29:58.735933Z"
        },
        "trusted": true,
        "id": "UYpvoT4mUJQy"
      },
      "execution_count": null,
      "outputs": []
    },
    {
      "cell_type": "code",
      "source": [
        "df['class'].value_counts()"
      ],
      "metadata": {
        "execution": {
          "iopub.status.busy": "2023-06-09T02:29:58.739870Z",
          "iopub.execute_input": "2023-06-09T02:29:58.740828Z",
          "iopub.status.idle": "2023-06-09T02:29:58.750190Z",
          "shell.execute_reply.started": "2023-06-09T02:29:58.740785Z",
          "shell.execute_reply": "2023-06-09T02:29:58.748860Z"
        },
        "trusted": true,
        "colab": {
          "base_uri": "https://localhost:8080/"
        },
        "id": "Zs-0DWkcUJQy",
        "outputId": "c113de1b-00f7-4a34-9b22-484ef5b73076"
      },
      "execution_count": null,
      "outputs": [
        {
          "output_type": "execute_result",
          "data": {
            "text/plain": [
              "0    28885\n",
              "1    22169\n",
              "Name: class, dtype: int64"
            ]
          },
          "metadata": {},
          "execution_count": 8
        }
      ]
    },
    {
      "cell_type": "code",
      "source": [
        "sns.countplot(x=df['class'])\n",
        "plt.title(\"Class Count\")\n",
        "plt.show()"
      ],
      "metadata": {
        "execution": {
          "iopub.status.busy": "2023-06-09T02:29:58.751838Z",
          "iopub.execute_input": "2023-06-09T02:29:58.752542Z",
          "iopub.status.idle": "2023-06-09T02:29:59.066208Z",
          "shell.execute_reply.started": "2023-06-09T02:29:58.752502Z",
          "shell.execute_reply": "2023-06-09T02:29:59.064999Z"
        },
        "trusted": true,
        "colab": {
          "base_uri": "https://localhost:8080/",
          "height": 472
        },
        "id": "KX-4Q83ZUJQy",
        "outputId": "f6ca1c34-b7b8-42cf-9450-df5e92e77b4a"
      },
      "execution_count": null,
      "outputs": [
        {
          "output_type": "display_data",
          "data": {
            "text/plain": [
              "<Figure size 640x480 with 1 Axes>"
            ],
            "image/png": "[encoded data removed]"
          },
          "metadata": {}
        }
      ]
    },
    {
      "cell_type": "markdown",
      "source": [
        "# Texual Analysis"
      ],
      "metadata": {
        "id": "LNV3HwutUJQz"
      }
    },
    {
      "cell_type": "code",
      "source": [
        "#lowercasing\n",
        "\n",
        "df['lyric'] = df['lyric'].str.lower()"
      ],
      "metadata": {
        "execution": {
          "iopub.status.busy": "2023-06-09T02:29:59.067473Z",
          "iopub.execute_input": "2023-06-09T02:29:59.067808Z",
          "iopub.status.idle": "2023-06-09T02:29:59.103323Z",
          "shell.execute_reply.started": "2023-06-09T02:29:59.067779Z",
          "shell.execute_reply": "2023-06-09T02:29:59.102097Z"
        },
        "trusted": true,
        "id": "WysfDcRcUJQz"
      },
      "execution_count": null,
      "outputs": []
    },
    {
      "cell_type": "code",
      "source": [
        "#removing tags\n",
        "\n",
        "import re\n",
        "\n",
        "def rem_tags(text):\n",
        "    text = re.sub(r'<.*?>',' ',text)\n",
        "    text = re.sub(r'https?://\\s+[www\\.\\st]',' ',text)\n",
        "    text = re.sub(r'[0-9]',' ',text)\n",
        "    text = re.sub(r' +',' ',text)\n",
        "    return text\n",
        "\n",
        "df['lyric'] = df['lyric'].apply(rem_tags)"
      ],
      "metadata": {
        "execution": {
          "iopub.status.busy": "2023-06-09T02:29:59.105238Z",
          "iopub.execute_input": "2023-06-09T02:29:59.105584Z",
          "iopub.status.idle": "2023-06-09T02:29:59.663695Z",
          "shell.execute_reply.started": "2023-06-09T02:29:59.105550Z",
          "shell.execute_reply": "2023-06-09T02:29:59.662471Z"
        },
        "trusted": true,
        "id": "hIq8mynIUJQz"
      },
      "execution_count": null,
      "outputs": []
    },
    {
      "cell_type": "code",
      "source": [
        "# Removing punctuations\n",
        "\n",
        "import string\n",
        "\n",
        "def rem_punc(text):\n",
        "    return text.translate(str.maketrans('','',string.punctuation))\n",
        "\n",
        "df['lyric'] = df['lyric'].apply(rem_punc)"
      ],
      "metadata": {
        "execution": {
          "iopub.status.busy": "2023-06-09T02:29:59.666054Z",
          "iopub.execute_input": "2023-06-09T02:29:59.666501Z",
          "iopub.status.idle": "2023-06-09T02:29:59.966463Z",
          "shell.execute_reply.started": "2023-06-09T02:29:59.666470Z",
          "shell.execute_reply": "2023-06-09T02:29:59.965298Z"
        },
        "trusted": true,
        "id": "RtxMaQY5UJQz"
      },
      "execution_count": null,
      "outputs": []
    },
    {
      "cell_type": "code",
      "source": [
        "# Removing stopwords\n",
        "\n",
        "import nltk\n",
        "from nltk.corpus import stopwords\n",
        "nltk.download('stopwords')\n",
        "\n",
        "def rem_stw(text):\n",
        "    n_text=[]\n",
        "    for word in text.split():\n",
        "        if word not in stopwords.words('english'):\n",
        "            n_text.append(word)\n",
        "    x = n_text[:]\n",
        "    n_text.clear()\n",
        "    return \" \".join(x)\n",
        "\n",
        "df['lyric'] = df['lyric'].apply(rem_stw)"
      ],
      "metadata": {
        "execution": {
          "iopub.status.busy": "2023-06-09T02:30:53.983272Z",
          "iopub.execute_input": "2023-06-09T02:30:53.983751Z",
          "iopub.status.idle": "2023-06-09T02:32:11.991722Z",
          "shell.execute_reply.started": "2023-06-09T02:30:53.983718Z",
          "shell.execute_reply": "2023-06-09T02:32:11.990684Z"
        },
        "trusted": true,
        "colab": {
          "base_uri": "https://localhost:8080/"
        },
        "id": "op2m-W49UJQz",
        "outputId": "cbb0d9e0-3f94-496b-de23-ab2375cb2ea7"
      },
      "execution_count": null,
      "outputs": [
        {
          "output_type": "stream",
          "name": "stderr",
          "text": [
            "[nltk_data] Downloading package stopwords to /root/nltk_data...\n",
            "[nltk_data]   Package stopwords is already up-to-date!\n"
          ]
        }
      ]
    },
    {
      "cell_type": "code",
      "source": [
        "df"
      ],
      "metadata": {
        "colab": {
          "base_uri": "https://localhost:8080/",
          "height": 419
        },
        "id": "vjrkt1mmVsWv",
        "outputId": "f2327eb5-caf3-4ea4-c796-daa349640ae0"
      },
      "execution_count": null,
      "outputs": [
        {
          "output_type": "execute_result",
          "data": {
            "text/plain": [
              "                                          lyric  class\n",
              "0                    cant drink without thinkin      1\n",
              "1                lil pump flyin private jet yuh      0\n",
              "2                   matter fact aint help money      0\n",
              "3                         could find aint hidin      0\n",
              "4                             way talk way move      1\n",
              "...                                         ...    ...\n",
              "51049            told pour went right blow blow      0\n",
              "51050                  hit ground crawl dresser      0\n",
              "51051  keep breathin breathin breathin breathin      1\n",
              "51052             go system long live king king      0\n",
              "51053                     mother knew things oh      1\n",
              "\n",
              "[51054 rows x 2 columns]"
            ],
            "text/html": [
              "\n",
              "  <div id=\"df-3b6bf58c-c23f-4f5d-8ac8-b35c4fad9707\">\n",
              "    <div class=\"colab-df-container\">\n",
              "      <div>\n",
              "<style scoped>\n",
              "    .dataframe tbody tr th:only-of-type {\n",
              "        vertical-align: middle;\n",
              "    }\n",
              "\n",
              "    .dataframe tbody tr th {\n",
              "        vertical-align: top;\n",
              "    }\n",
              "\n",
              "    .dataframe thead th {\n",
              "        text-align: right;\n",
              "    }\n",
              "</style>\n",
              "<table border=\"1\" class=\"dataframe\">\n",
              "  <thead>\n",
              "    <tr style=\"text-align: right;\">\n",
              "      <th></th>\n",
              "      <th>lyric</th>\n",
              "      <th>class</th>\n",
              "    </tr>\n",
              "  </thead>\n",
              "  <tbody>\n",
              "    <tr>\n",
              "      <th>0</th>\n",
              "      <td>cant drink without thinkin</td>\n",
              "      <td>1</td>\n",
              "    </tr>\n",
              "    <tr>\n",
              "      <th>1</th>\n",
              "      <td>lil pump flyin private jet yuh</td>\n",
              "      <td>0</td>\n",
              "    </tr>\n",
              "    <tr>\n",
              "      <th>2</th>\n",
              "      <td>matter fact aint help money</td>\n",
              "      <td>0</td>\n",
              "    </tr>\n",
              "    <tr>\n",
              "      <th>3</th>\n",
              "      <td>could find aint hidin</td>\n",
              "      <td>0</td>\n",
              "    </tr>\n",
              "    <tr>\n",
              "      <th>4</th>\n",
              "      <td>way talk way move</td>\n",
              "      <td>1</td>\n",
              "    </tr>\n",
              "    <tr>\n",
              "      <th>...</th>\n",
              "      <td>...</td>\n",
              "      <td>...</td>\n",
              "    </tr>\n",
              "    <tr>\n",
              "      <th>51049</th>\n",
              "      <td>told pour went right blow blow</td>\n",
              "      <td>0</td>\n",
              "    </tr>\n",
              "    <tr>\n",
              "      <th>51050</th>\n",
              "      <td>hit ground crawl dresser</td>\n",
              "      <td>0</td>\n",
              "    </tr>\n",
              "    <tr>\n",
              "      <th>51051</th>\n",
              "      <td>keep breathin breathin breathin breathin</td>\n",
              "      <td>1</td>\n",
              "    </tr>\n",
              "    <tr>\n",
              "      <th>51052</th>\n",
              "      <td>go system long live king king</td>\n",
              "      <td>0</td>\n",
              "    </tr>\n",
              "    <tr>\n",
              "      <th>51053</th>\n",
              "      <td>mother knew things oh</td>\n",
              "      <td>1</td>\n",
              "    </tr>\n",
              "  </tbody>\n",
              "</table>\n",
              "<p>51054 rows × 2 columns</p>\n",
              "</div>\n",
              "      <button class=\"colab-df-convert\" onclick=\"convertToInteractive('df-3b6bf58c-c23f-4f5d-8ac8-b35c4fad9707')\"\n",
              "              title=\"Convert this dataframe to an interactive table.\"\n",
              "              style=\"display:none;\">\n",
              "        \n",
              "  <svg xmlns=\"http://www.w3.org/2000/svg\" height=\"24px\"viewBox=\"0 0 24 24\"\n",
              "       width=\"24px\">\n",
              "    <path d=\"M0 0h24v24H0V0z\" fill=\"none\"/>\n",
              "    <path d=\"M18.56 5.44l.94 2.06.94-2.06 2.06-.94-2.06-.94-.94-2.06-.94 2.06-2.06.94zm-11 1L8.5 8.5l.94-2.06 2.06-.94-2.06-.94L8.5 2.5l-.94 2.06-2.06.94zm10 10l.94 2.06.94-2.06 2.06-.94-2.06-.94-.94-2.06-.94 2.06-2.06.94z\"/><path d=\"M17.41 7.96l-1.37-1.37c-.4-.4-.92-.59-1.43-.59-.52 0-1.04.2-1.43.59L10.3 9.45l-7.72 7.72c-.78.78-.78 2.05 0 2.83L4 21.41c.39.39.9.59 1.41.59.51 0 1.02-.2 1.41-.59l7.78-7.78 2.81-2.81c.8-.78.8-2.07 0-2.86zM5.41 20L4 18.59l7.72-7.72 1.47 1.35L5.41 20z\"/>\n",
              "  </svg>\n",
              "      </button>\n",
              "      \n",
              "  <style>\n",
              "    .colab-df-container {\n",
              "      display:flex;\n",
              "      flex-wrap:wrap;\n",
              "      gap: 12px;\n",
              "    }\n",
              "\n",
              "    .colab-df-convert {\n",
              "      background-color: #E8F0FE;\n",
              "      border: none;\n",
              "      border-radius: 50%;\n",
              "      cursor: pointer;\n",
              "      display: none;\n",
              "      fill: #1967D2;\n",
              "      height: 32px;\n",
              "      padding: 0 0 0 0;\n",
              "      width: 32px;\n",
              "    }\n",
              "\n",
              "    .colab-df-convert:hover {\n",
              "      background-color: #E2EBFA;\n",
              "      box-shadow: 0px 1px 2px rgba(60, 64, 67, 0.3), 0px 1px 3px 1px rgba(60, 64, 67, 0.15);\n",
              "      fill: #174EA6;\n",
              "    }\n",
              "\n",
              "    [theme=dark] .colab-df-convert {\n",
              "      background-color: #3B4455;\n",
              "      fill: #D2E3FC;\n",
              "    }\n",
              "\n",
              "    [theme=dark] .colab-df-convert:hover {\n",
              "      background-color: #434B5C;\n",
              "      box-shadow: 0px 1px 3px 1px rgba(0, 0, 0, 0.15);\n",
              "      filter: drop-shadow(0px 1px 2px rgba(0, 0, 0, 0.3));\n",
              "      fill: #FFFFFF;\n",
              "    }\n",
              "  </style>\n",
              "\n",
              "      <script>\n",
              "        const buttonEl =\n",
              "          document.querySelector('#df-3b6bf58c-c23f-4f5d-8ac8-b35c4fad9707 button.colab-df-convert');\n",
              "        buttonEl.style.display =\n",
              "          google.colab.kernel.accessAllowed ? 'block' : 'none';\n",
              "\n",
              "        async function convertToInteractive(key) {\n",
              "          const element = document.querySelector('#df-3b6bf58c-c23f-4f5d-8ac8-b35c4fad9707');\n",
              "          const dataTable =\n",
              "            await google.colab.kernel.invokeFunction('convertToInteractive',\n",
              "                                                     [key], {});\n",
              "          if (!dataTable) return;\n",
              "\n",
              "          const docLinkHtml = 'Like what you see? Visit the ' +\n",
              "            '<a target=\"_blank\" href=https://colab.research.google.com/notebooks/data_table.ipynb>data table notebook</a>'\n",
              "            + ' to learn more about interactive tables.';\n",
              "          element.innerHTML = '';\n",
              "          dataTable['output_type'] = 'display_data';\n",
              "          await google.colab.output.renderOutput(dataTable, element);\n",
              "          const docLink = document.createElement('div');\n",
              "          docLink.innerHTML = docLinkHtml;\n",
              "          element.appendChild(docLink);\n",
              "        }\n",
              "      </script>\n",
              "    </div>\n",
              "  </div>\n",
              "  "
            ]
          },
          "metadata": {},
          "execution_count": 14
        }
      ]
    },
    {
      "cell_type": "markdown",
      "source": [
        "# Vectorizing"
      ],
      "metadata": {
        "id": "Vdt4EREwUJQz"
      }
    },
    {
      "cell_type": "code",
      "source": [
        "from sklearn.feature_extraction.text import TfidfVectorizer\n",
        "\n",
        "tfidf = TfidfVectorizer()\n",
        "tfidf.fit(df['lyric'])\n",
        "X = tfidf.transform(df['lyric']).toarray()"
      ],
      "metadata": {
        "execution": {
          "iopub.status.busy": "2023-06-09T02:32:11.994540Z",
          "iopub.execute_input": "2023-06-09T02:32:11.995555Z",
          "iopub.status.idle": "2023-06-09T02:32:13.826552Z",
          "shell.execute_reply.started": "2023-06-09T02:32:11.995508Z",
          "shell.execute_reply": "2023-06-09T02:32:13.825692Z"
        },
        "trusted": true,
        "id": "YxRpgp-5UJQz"
      },
      "execution_count": null,
      "outputs": []
    },
    {
      "cell_type": "code",
      "source": [
        "Y = df['class']"
      ],
      "metadata": {
        "execution": {
          "iopub.status.busy": "2023-06-09T02:32:13.828470Z",
          "iopub.execute_input": "2023-06-09T02:32:13.829357Z",
          "iopub.status.idle": "2023-06-09T02:32:13.834731Z",
          "shell.execute_reply.started": "2023-06-09T02:32:13.829314Z",
          "shell.execute_reply": "2023-06-09T02:32:13.833446Z"
        },
        "trusted": true,
        "id": "TiUvR3GWUJQ0"
      },
      "execution_count": null,
      "outputs": []
    },
    {
      "cell_type": "code",
      "source": [
        "print(X.shape, Y.shape)"
      ],
      "metadata": {
        "execution": {
          "iopub.status.busy": "2023-06-09T02:32:13.837338Z",
          "iopub.execute_input": "2023-06-09T02:32:13.837790Z",
          "iopub.status.idle": "2023-06-09T02:32:13.854049Z",
          "shell.execute_reply.started": "2023-06-09T02:32:13.837758Z",
          "shell.execute_reply": "2023-06-09T02:32:13.853134Z"
        },
        "trusted": true,
        "colab": {
          "base_uri": "https://localhost:8080/"
        },
        "id": "NHhPTqJUUJQ0",
        "outputId": "95361f1e-554c-458b-9b19-8f03b6812df3"
      },
      "execution_count": null,
      "outputs": [
        {
          "output_type": "stream",
          "name": "stdout",
          "text": [
            "(51054, 14107) (51054,)\n"
          ]
        }
      ]
    },
    {
      "cell_type": "markdown",
      "source": [
        "# Splitting Data"
      ],
      "metadata": {
        "id": "TGGa81BlUJQ0"
      }
    },
    {
      "cell_type": "code",
      "source": [
        "from sklearn.model_selection import train_test_split as tts\n",
        "\n",
        "X_train, X_test, Y_train, Y_test = tts(X,Y, test_size=0.2, random_state=512)\n",
        "print(X_train.shape, X_test.shape, Y_train.shape, Y_test.shape)"
      ],
      "metadata": {
        "execution": {
          "iopub.status.busy": "2023-06-09T02:32:13.858282Z",
          "iopub.execute_input": "2023-06-09T02:32:13.858642Z",
          "iopub.status.idle": "2023-06-09T02:32:18.282548Z",
          "shell.execute_reply.started": "2023-06-09T02:32:13.858614Z",
          "shell.execute_reply": "2023-06-09T02:32:18.281673Z"
        },
        "trusted": true,
        "colab": {
          "base_uri": "https://localhost:8080/"
        },
        "id": "1ByQcUBJUJQ0",
        "outputId": "2ef96c51-ade2-4ba4-e6fd-741e459d5631"
      },
      "execution_count": null,
      "outputs": [
        {
          "output_type": "stream",
          "name": "stdout",
          "text": [
            "(40843, 14107) (10211, 14107) (40843,) (10211,)\n"
          ]
        }
      ]
    },
    {
      "cell_type": "markdown",
      "source": [
        "# Model Training"
      ],
      "metadata": {
        "id": "PoUddwdiUJQ0"
      }
    },
    {
      "cell_type": "code",
      "source": [
        "from tensorflow import keras\n",
        "from tensorflow.keras import layers\n",
        "\n",
        "model = keras.Sequential([\n",
        "    layers.Dense(20,activation='relu'),\n",
        "    layers.Dense(25,activation='relu'),\n",
        "    layers.Dense(25,activation='relu'),\n",
        "    layers.Dense(15,activation='relu'),\n",
        "    layers.Dense(1,activation='sigmoid'),\n",
        "])"
      ],
      "metadata": {
        "execution": {
          "iopub.status.busy": "2023-06-09T02:37:56.835988Z",
          "iopub.execute_input": "2023-06-09T02:37:56.836425Z",
          "iopub.status.idle": "2023-06-09T02:37:56.852376Z",
          "shell.execute_reply.started": "2023-06-09T02:37:56.836390Z",
          "shell.execute_reply": "2023-06-09T02:37:56.851223Z"
        },
        "trusted": true,
        "id": "6oLPMfSaUJQ0"
      },
      "execution_count": null,
      "outputs": []
    },
    {
      "cell_type": "code",
      "source": [
        "model.compile(\n",
        "    optimizer='adam',\n",
        "    loss='binary_crossentropy',\n",
        "    metrics = ['binary_accuracy'],\n",
        ")"
      ],
      "metadata": {
        "execution": {
          "iopub.status.busy": "2023-06-09T02:37:58.444295Z",
          "iopub.execute_input": "2023-06-09T02:37:58.444706Z",
          "iopub.status.idle": "2023-06-09T02:37:58.458434Z",
          "shell.execute_reply.started": "2023-06-09T02:37:58.444674Z",
          "shell.execute_reply": "2023-06-09T02:37:58.457448Z"
        },
        "trusted": true,
        "id": "WilUP8isUJQ1"
      },
      "execution_count": null,
      "outputs": []
    },
    {
      "cell_type": "code",
      "source": [
        "history = model.fit(\n",
        "    X_train,Y_train,\n",
        "    batch_size = 1500,\n",
        "    epochs =20,\n",
        ")"
      ],
      "metadata": {
        "execution": {
          "iopub.status.busy": "2023-06-09T02:47:55.673998Z",
          "iopub.execute_input": "2023-06-09T02:47:55.674499Z",
          "iopub.status.idle": "2023-06-09T02:48:46.475164Z",
          "shell.execute_reply.started": "2023-06-09T02:47:55.674464Z",
          "shell.execute_reply": "2023-06-09T02:48:46.474234Z"
        },
        "trusted": true,
        "colab": {
          "base_uri": "https://localhost:8080/"
        },
        "id": "jBRVeImWUJQ1",
        "outputId": "a48d45a2-01d7-48db-c015-d5d6c623ee4e"
      },
      "execution_count": null,
      "outputs": [
        {
          "output_type": "stream",
          "name": "stdout",
          "text": [
            "Epoch 1/20\n",
            "28/28 [==============================] - 7s 180ms/step - loss: 0.6782 - binary_accuracy: 0.5648\n",
            "Epoch 2/20\n",
            "28/28 [==============================] - 4s 134ms/step - loss: 0.6025 - binary_accuracy: 0.6141\n",
            "Epoch 3/20\n",
            "28/28 [==============================] - 4s 133ms/step - loss: 0.4850 - binary_accuracy: 0.8083\n",
            "Epoch 4/20\n",
            "28/28 [==============================] - 5s 175ms/step - loss: 0.3926 - binary_accuracy: 0.8476\n",
            "Epoch 5/20\n",
            "28/28 [==============================] - 4s 133ms/step - loss: 0.3398 - binary_accuracy: 0.8617\n",
            "Epoch 6/20\n",
            "28/28 [==============================] - 4s 134ms/step - loss: 0.3145 - binary_accuracy: 0.8705\n",
            "Epoch 7/20\n",
            "28/28 [==============================] - 4s 161ms/step - loss: 0.2970 - binary_accuracy: 0.8781\n",
            "Epoch 8/20\n",
            "28/28 [==============================] - 4s 146ms/step - loss: 0.2829 - binary_accuracy: 0.8842\n",
            "Epoch 9/20\n",
            "28/28 [==============================] - 4s 134ms/step - loss: 0.2701 - binary_accuracy: 0.8909\n",
            "Epoch 10/20\n",
            "28/28 [==============================] - 4s 155ms/step - loss: 0.2584 - binary_accuracy: 0.8966\n",
            "Epoch 11/20\n",
            "28/28 [==============================] - 4s 154ms/step - loss: 0.2459 - binary_accuracy: 0.9019\n",
            "Epoch 12/20\n",
            "28/28 [==============================] - 4s 133ms/step - loss: 0.2348 - binary_accuracy: 0.9073\n",
            "Epoch 13/20\n",
            "28/28 [==============================] - 4s 142ms/step - loss: 0.2228 - binary_accuracy: 0.9133\n",
            "Epoch 14/20\n",
            "28/28 [==============================] - 5s 165ms/step - loss: 0.2115 - binary_accuracy: 0.9171\n",
            "Epoch 15/20\n",
            "28/28 [==============================] - 4s 134ms/step - loss: 0.1993 - binary_accuracy: 0.9241\n",
            "Epoch 16/20\n",
            "28/28 [==============================] - 4s 132ms/step - loss: 0.1881 - binary_accuracy: 0.9282\n",
            "Epoch 17/20\n",
            "28/28 [==============================] - 5s 174ms/step - loss: 0.1780 - binary_accuracy: 0.9321\n",
            "Epoch 18/20\n",
            "28/28 [==============================] - 4s 135ms/step - loss: 0.1692 - binary_accuracy: 0.9336\n",
            "Epoch 19/20\n",
            "28/28 [==============================] - 4s 134ms/step - loss: 0.1600 - binary_accuracy: 0.9387\n",
            "Epoch 20/20\n",
            "28/28 [==============================] - 5s 178ms/step - loss: 0.1520 - binary_accuracy: 0.9410\n"
          ]
        }
      ]
    },
    {
      "cell_type": "code",
      "source": [
        "import pickle\n",
        "\n",
        "pickle.dump(model,open('music_genre_model.pkl','wb'))\n",
        "pickle.dump(tfidf,open('music_genre_vectorizer.pkl','wb'))"
      ],
      "metadata": {
        "id": "WlF_DsZBbXr3"
      },
      "execution_count": null,
      "outputs": []
    }
  ]
}